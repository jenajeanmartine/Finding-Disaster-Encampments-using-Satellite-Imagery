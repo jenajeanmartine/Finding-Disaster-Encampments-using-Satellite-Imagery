{
 "cells": [
  {
   "cell_type": "markdown",
   "metadata": {},
   "source": [
    "## IMPORT LIBRARIES"
   ]
  },
  {
   "cell_type": "code",
   "execution_count": 167,
   "metadata": {},
   "outputs": [],
   "source": [
    "import numpy as np\n",
    "import pandas as pd\n",
    "import matplotlib.pyplot as plt\n",
    "import tensorflow.keras\n",
    "from tensorflow.keras.preprocessing.image import ImageDataGenerator\n",
    "from tensorflow.keras.models import Sequential\n",
    "from tensorflow.keras.layers import Conv2D, MaxPooling2D, Activation, Dropout, Flatten, Dense"
   ]
  },
  {
   "cell_type": "markdown",
   "metadata": {},
   "source": [
    "## IMPORT DATA"
   ]
  },
  {
   "cell_type": "code",
   "execution_count": 19,
   "metadata": {},
   "outputs": [],
   "source": [
    "# Data generators for all 3 datasets\n",
    "train_datagen = ImageDataGenerator(rescale=1./255)\n",
    "test_datagen = ImageDataGenerator(rescale=1./255)\n",
    "val_datagen = ImageDataGenerator(rescale=1./255)"
   ]
  },
  {
   "cell_type": "code",
   "execution_count": 55,
   "metadata": {},
   "outputs": [
    {
     "name": "stdout",
     "output_type": "stream",
     "text": [
      "Found 10000 images belonging to 2 classes.\n"
     ]
    }
   ],
   "source": [
    "train_generator = train_datagen.flow_from_directory(\n",
    "        'satellite-images-of-hurricane-damage/train_another/',\n",
    "        target_size=(128, 128),\n",
    "        batch_size=32,\n",
    "        class_mode='categorical')"
   ]
  },
  {
   "cell_type": "code",
   "execution_count": 56,
   "metadata": {},
   "outputs": [
    {
     "name": "stdout",
     "output_type": "stream",
     "text": [
      "Found 2000 images belonging to 2 classes.\n"
     ]
    }
   ],
   "source": [
    "val_generator = val_datagen.flow_from_directory(\n",
    "        'satellite-images-of-hurricane-damage/validation_another/',\n",
    "        target_size=(128, 128),\n",
    "        batch_size=32,\n",
    "        class_mode='categorical')"
   ]
  },
  {
   "cell_type": "code",
   "execution_count": 57,
   "metadata": {},
   "outputs": [
    {
     "name": "stdout",
     "output_type": "stream",
     "text": [
      "Found 2000 images belonging to 2 classes.\n"
     ]
    }
   ],
   "source": [
    "test_generator = test_datagen.flow_from_directory(\n",
    "        'satellite-images-of-hurricane-damage/test/',\n",
    "        target_size=(128, 128),\n",
    "        batch_size=32,\n",
    "        class_mode='categorical')"
   ]
  },
  {
   "cell_type": "markdown",
   "metadata": {},
   "source": [
    "## MODELING"
   ]
  },
  {
   "cell_type": "code",
   "execution_count": 93,
   "metadata": {},
   "outputs": [],
   "source": [
    "# Extract X_test from test_generator to use for predicting\n",
    "x, y = zip(*(test_generator[i] for i in range(len(test_generator))))\n",
    "x_test, y_test = np.vstack(x), np.vstack(y)"
   ]
  },
  {
   "cell_type": "code",
   "execution_count": 58,
   "metadata": {},
   "outputs": [],
   "source": [
    "# Split Data(X) and target(y) from train_generator\n",
    "x_train, y_train = train_generator.next()"
   ]
  },
  {
   "cell_type": "code",
   "execution_count": 76,
   "metadata": {},
   "outputs": [
    {
     "data": {
      "text/plain": [
       "(32, 128, 128, 3)"
      ]
     },
     "execution_count": 76,
     "metadata": {},
     "output_type": "execute_result"
    }
   ],
   "source": [
    "x_train.shape[1:]"
   ]
  },
  {
   "cell_type": "code",
   "execution_count": 72,
   "metadata": {},
   "outputs": [
    {
     "data": {
      "text/plain": [
       "array([[[[0.47450984, 0.41960788, 0.31764707],\n",
       "         [0.4784314 , 0.43137258, 0.32941177],\n",
       "         [0.48627454, 0.43921572, 0.3372549 ],\n",
       "         ...,\n",
       "         [0.31764707, 0.3529412 , 0.2392157 ],\n",
       "         [0.3019608 , 0.3372549 , 0.22352943],\n",
       "         [0.29803923, 0.33333334, 0.21960786]],\n",
       "\n",
       "        [[0.4431373 , 0.39607847, 0.29411766],\n",
       "         [0.45882356, 0.41176474, 0.30980393],\n",
       "         [0.47450984, 0.427451  , 0.3254902 ],\n",
       "         ...,\n",
       "         [0.31764707, 0.3529412 , 0.2392157 ],\n",
       "         [0.30588236, 0.34117648, 0.227451  ],\n",
       "         [0.32156864, 0.35686275, 0.23529413]],\n",
       "\n",
       "        [[0.47450984, 0.427451  , 0.3254902 ],\n",
       "         [0.48235297, 0.43529415, 0.33333334],\n",
       "         [0.48627454, 0.44705886, 0.34117648],\n",
       "         ...,\n",
       "         [0.21960786, 0.25490198, 0.14117648],\n",
       "         [0.26666668, 0.3019608 , 0.18039216],\n",
       "         [0.34509805, 0.3803922 , 0.25882354]],\n",
       "\n",
       "        ...,\n",
       "\n",
       "        [[0.41176474, 0.48235297, 0.2784314 ],\n",
       "         [0.40784317, 0.47450984, 0.27058825],\n",
       "         [0.41176474, 0.4666667 , 0.26666668],\n",
       "         ...,\n",
       "         [0.3372549 , 0.38431376, 0.227451  ],\n",
       "         [0.3372549 , 0.38431376, 0.227451  ],\n",
       "         [0.32941177, 0.38823533, 0.227451  ]],\n",
       "\n",
       "        [[0.40000004, 0.4666667 , 0.2627451 ],\n",
       "         [0.40000004, 0.4666667 , 0.2627451 ],\n",
       "         [0.41176474, 0.4666667 , 0.26666668],\n",
       "         ...,\n",
       "         [0.34509805, 0.3921569 , 0.23529413],\n",
       "         [0.34509805, 0.3921569 , 0.23529413],\n",
       "         [0.34509805, 0.3921569 , 0.23529413]],\n",
       "\n",
       "        [[0.37647063, 0.4431373 , 0.2392157 ],\n",
       "         [0.3921569 , 0.44705886, 0.24705884],\n",
       "         [0.40784317, 0.454902  , 0.25882354],\n",
       "         ...,\n",
       "         [0.3529412 , 0.40000004, 0.24313727],\n",
       "         [0.3529412 , 0.40000004, 0.24313727],\n",
       "         [0.3529412 , 0.40000004, 0.24313727]]],\n",
       "\n",
       "\n",
       "       [[[0.3137255 , 0.38431376, 0.28235295],\n",
       "         [0.30588236, 0.37647063, 0.27450982],\n",
       "         [0.30588236, 0.36862746, 0.26666668],\n",
       "         ...,\n",
       "         [0.41176474, 0.4431373 , 0.3529412 ],\n",
       "         [0.41960788, 0.45098042, 0.36078432],\n",
       "         [0.43137258, 0.46274513, 0.37254903]],\n",
       "\n",
       "        [[0.34901962, 0.41960788, 0.31764707],\n",
       "         [0.35686275, 0.427451  , 0.3254902 ],\n",
       "         [0.37647063, 0.43921572, 0.3372549 ],\n",
       "         ...,\n",
       "         [0.227451  , 0.2627451 , 0.18039216],\n",
       "         [0.23529413, 0.27450982, 0.18039216],\n",
       "         [0.2509804 , 0.2901961 , 0.19607845]],\n",
       "\n",
       "        [[0.39607847, 0.4666667 , 0.37254903],\n",
       "         [0.40784317, 0.4784314 , 0.38431376],\n",
       "         [0.43137258, 0.49411768, 0.3921569 ],\n",
       "         ...,\n",
       "         [0.14117648, 0.1764706 , 0.09411766],\n",
       "         [0.15686275, 0.19215688, 0.10980393],\n",
       "         [0.17254902, 0.20784315, 0.1254902 ]],\n",
       "\n",
       "        ...,\n",
       "\n",
       "        [[0.4901961 , 0.53333336, 0.4156863 ],\n",
       "         [0.5058824 , 0.54901963, 0.43137258],\n",
       "         [0.5176471 , 0.56078434, 0.4431373 ],\n",
       "         ...,\n",
       "         [0.53333336, 0.57254905, 0.43921572],\n",
       "         [0.48627454, 0.5254902 , 0.3921569 ],\n",
       "         [0.454902  , 0.49411768, 0.36078432]],\n",
       "\n",
       "        [[0.70980394, 0.75294125, 0.627451  ],\n",
       "         [0.69803923, 0.7411765 , 0.6156863 ],\n",
       "         [0.654902  , 0.69803923, 0.57254905],\n",
       "         ...,\n",
       "         [0.16470589, 0.20000002, 0.08627451],\n",
       "         [0.1254902 , 0.16078432, 0.04705883],\n",
       "         [0.10196079, 0.13725491, 0.02352941]],\n",
       "\n",
       "        [[0.6509804 , 0.69411767, 0.5686275 ],\n",
       "         [0.60784316, 0.6509804 , 0.5254902 ],\n",
       "         [0.50980395, 0.5529412 , 0.427451  ],\n",
       "         ...,\n",
       "         [0.13725491, 0.17254902, 0.06666667],\n",
       "         [0.16470589, 0.19607845, 0.10196079],\n",
       "         [0.1764706 , 0.20784315, 0.1137255 ]]],\n",
       "\n",
       "\n",
       "       [[[0.3372549 , 0.32156864, 0.21568629],\n",
       "         [0.227451  , 0.22352943, 0.1137255 ],\n",
       "         [0.20784315, 0.20000002, 0.10196079],\n",
       "         ...,\n",
       "         [0.11764707, 0.16078432, 0.10588236],\n",
       "         [0.16470589, 0.21176472, 0.16470589],\n",
       "         [0.21568629, 0.2627451 , 0.21568629]],\n",
       "\n",
       "        [[0.30588236, 0.2901961 , 0.18431373],\n",
       "         [0.25882354, 0.25490198, 0.14509805],\n",
       "         [0.21960786, 0.21176472, 0.1137255 ],\n",
       "         ...,\n",
       "         [0.11764707, 0.16078432, 0.10588236],\n",
       "         [0.15294118, 0.20000002, 0.15294118],\n",
       "         [0.19215688, 0.2392157 , 0.19215688]],\n",
       "\n",
       "        [[0.3137255 , 0.29803923, 0.19215688],\n",
       "         [0.37254903, 0.35686275, 0.25882354],\n",
       "         [0.29803923, 0.2901961 , 0.20000002],\n",
       "         ...,\n",
       "         [0.08627451, 0.13333334, 0.07843138],\n",
       "         [0.11764707, 0.16470589, 0.11764707],\n",
       "         [0.14509805, 0.20000002, 0.14901961]],\n",
       "\n",
       "        ...,\n",
       "\n",
       "        [[0.19607845, 0.23529413, 0.20392159],\n",
       "         [0.18431373, 0.21176472, 0.18431373],\n",
       "         [0.14901961, 0.1764706 , 0.14901961],\n",
       "         ...,\n",
       "         [0.29411766, 0.34117648, 0.25490198],\n",
       "         [0.31764707, 0.37254903, 0.28235295],\n",
       "         [0.32941177, 0.38431376, 0.29411766]],\n",
       "\n",
       "        [[0.20784315, 0.24313727, 0.22352943],\n",
       "         [0.17254902, 0.21176472, 0.18039216],\n",
       "         [0.13725491, 0.16470589, 0.13725491],\n",
       "         ...,\n",
       "         [0.2901961 , 0.3372549 , 0.2509804 ],\n",
       "         [0.31764707, 0.37254903, 0.28235295],\n",
       "         [0.33333334, 0.38823533, 0.29803923]],\n",
       "\n",
       "        [[0.19215688, 0.227451  , 0.20784315],\n",
       "         [0.15686275, 0.19215688, 0.17254902],\n",
       "         [0.1254902 , 0.16470589, 0.13333334],\n",
       "         ...,\n",
       "         [0.28627452, 0.33333334, 0.24705884],\n",
       "         [0.3137255 , 0.36862746, 0.2784314 ],\n",
       "         [0.3372549 , 0.3921569 , 0.3019608 ]]],\n",
       "\n",
       "\n",
       "       ...,\n",
       "\n",
       "\n",
       "       [[[0.27450982, 0.25490198, 0.24313727],\n",
       "         [0.2784314 , 0.25882354, 0.24705884],\n",
       "         [0.2509804 , 0.23529413, 0.22352943],\n",
       "         ...,\n",
       "         [0.17254902, 0.21960786, 0.18039216],\n",
       "         [0.15686275, 0.20392159, 0.16470589],\n",
       "         [0.12941177, 0.1764706 , 0.13725491]],\n",
       "\n",
       "        [[0.27058825, 0.2509804 , 0.23529413],\n",
       "         [0.2784314 , 0.25882354, 0.24313727],\n",
       "         [0.25882354, 0.24705884, 0.227451  ],\n",
       "         ...,\n",
       "         [0.13725491, 0.18431373, 0.14509805],\n",
       "         [0.16470589, 0.21176472, 0.17254902],\n",
       "         [0.18039216, 0.227451  , 0.18823531]],\n",
       "\n",
       "        [[0.2627451 , 0.24313727, 0.227451  ],\n",
       "         [0.26666668, 0.25490198, 0.23529413],\n",
       "         [0.2509804 , 0.2509804 , 0.21960786],\n",
       "         ...,\n",
       "         [0.10980393, 0.15686275, 0.11764707],\n",
       "         [0.16078432, 0.20784315, 0.16862746],\n",
       "         [0.19607845, 0.24313727, 0.20392159]],\n",
       "\n",
       "        ...,\n",
       "\n",
       "        [[0.36078432, 0.34509805, 0.29803923],\n",
       "         [0.3372549 , 0.32156864, 0.27450982],\n",
       "         [0.30588236, 0.29803923, 0.24705884],\n",
       "         ...,\n",
       "         [0.18823531, 0.2627451 , 0.18823531],\n",
       "         [0.14901961, 0.22352943, 0.14901961],\n",
       "         [0.12156864, 0.19607845, 0.12156864]],\n",
       "\n",
       "        [[0.36078432, 0.34509805, 0.29803923],\n",
       "         [0.3372549 , 0.32156864, 0.27450982],\n",
       "         [0.30588236, 0.2901961 , 0.24313727],\n",
       "         ...,\n",
       "         [0.18823531, 0.2627451 , 0.18823531],\n",
       "         [0.15686275, 0.23137257, 0.15686275],\n",
       "         [0.12941177, 0.20392159, 0.12941177]],\n",
       "\n",
       "        [[0.37254903, 0.35686275, 0.30980393],\n",
       "         [0.3372549 , 0.32156864, 0.27450982],\n",
       "         [0.29411766, 0.2784314 , 0.23137257],\n",
       "         ...,\n",
       "         [0.20392159, 0.2784314 , 0.20392159],\n",
       "         [0.18039216, 0.25490198, 0.18039216],\n",
       "         [0.16470589, 0.2392157 , 0.16470589]]],\n",
       "\n",
       "\n",
       "       [[[0.41176474, 0.43137258, 0.34509805],\n",
       "         [0.42352945, 0.4431373 , 0.35686275],\n",
       "         [0.41960788, 0.43921572, 0.3529412 ],\n",
       "         ...,\n",
       "         [0.3372549 , 0.37254903, 0.30588236],\n",
       "         [0.31764707, 0.3529412 , 0.28627452],\n",
       "         [0.31764707, 0.3529412 , 0.28627452]],\n",
       "\n",
       "        [[0.40784317, 0.427451  , 0.34901962],\n",
       "         [0.43137258, 0.45098042, 0.37254903],\n",
       "         [0.43529415, 0.454902  , 0.37647063],\n",
       "         ...,\n",
       "         [0.34117648, 0.37647063, 0.30980393],\n",
       "         [0.3137255 , 0.34901962, 0.28235295],\n",
       "         [0.3137255 , 0.34901962, 0.28235295]],\n",
       "\n",
       "        [[0.37254903, 0.40000004, 0.32941177],\n",
       "         [0.40784317, 0.43921572, 0.35686275],\n",
       "         [0.43529415, 0.4666667 , 0.38431376],\n",
       "         ...,\n",
       "         [0.34117648, 0.37647063, 0.30980393],\n",
       "         [0.30980393, 0.34509805, 0.2784314 ],\n",
       "         [0.3137255 , 0.34901962, 0.28235295]],\n",
       "\n",
       "        ...,\n",
       "\n",
       "        [[0.18823531, 0.24705884, 0.15686275],\n",
       "         [0.25490198, 0.3137255 , 0.22352943],\n",
       "         [0.27058825, 0.3254902 , 0.23529413],\n",
       "         ...,\n",
       "         [0.19607845, 0.26666668, 0.17254902],\n",
       "         [0.21568629, 0.28627452, 0.19215688],\n",
       "         [0.21176472, 0.28235295, 0.18823531]],\n",
       "\n",
       "        [[0.20000002, 0.27058825, 0.1764706 ],\n",
       "         [0.22352943, 0.29411766, 0.20000002],\n",
       "         [0.24705884, 0.30588236, 0.21568629],\n",
       "         ...,\n",
       "         [0.19215688, 0.2627451 , 0.16862746],\n",
       "         [0.20784315, 0.2784314 , 0.18431373],\n",
       "         [0.19607845, 0.27450982, 0.1764706 ]],\n",
       "\n",
       "        [[0.24313727, 0.32156864, 0.22352943],\n",
       "         [0.21176472, 0.28235295, 0.18823531],\n",
       "         [0.21568629, 0.28627452, 0.19215688],\n",
       "         ...,\n",
       "         [0.1764706 , 0.24705884, 0.15294118],\n",
       "         [0.19607845, 0.27450982, 0.1764706 ],\n",
       "         [0.19215688, 0.27058825, 0.17254902]]],\n",
       "\n",
       "\n",
       "       [[[0.40000004, 0.36862746, 0.29411766],\n",
       "         [0.43529415, 0.4039216 , 0.32941177],\n",
       "         [0.46274513, 0.43137258, 0.35686275],\n",
       "         ...,\n",
       "         [0.38823533, 0.36078432, 0.2901961 ],\n",
       "         [0.40784317, 0.3803922 , 0.30980393],\n",
       "         [0.427451  , 0.40000004, 0.32941177]],\n",
       "\n",
       "        [[0.4431373 , 0.41176474, 0.3372549 ],\n",
       "         [0.42352945, 0.3921569 , 0.31764707],\n",
       "         [0.40000004, 0.36862746, 0.29411766],\n",
       "         ...,\n",
       "         [0.41176474, 0.38431376, 0.3137255 ],\n",
       "         [0.39607847, 0.36862746, 0.29803923],\n",
       "         [0.38823533, 0.36078432, 0.2901961 ]],\n",
       "\n",
       "        [[0.43921572, 0.40784317, 0.33333334],\n",
       "         [0.4039216 , 0.37254903, 0.29803923],\n",
       "         [0.36862746, 0.3372549 , 0.2627451 ],\n",
       "         ...,\n",
       "         [0.43137258, 0.4039216 , 0.33333334],\n",
       "         [0.40784317, 0.3803922 , 0.30980393],\n",
       "         [0.38823533, 0.36078432, 0.2901961 ]],\n",
       "\n",
       "        ...,\n",
       "\n",
       "        [[0.36078432, 0.35686275, 0.27450982],\n",
       "         [0.36078432, 0.35686275, 0.27450982],\n",
       "         [0.36078432, 0.35686275, 0.27450982],\n",
       "         ...,\n",
       "         [0.38823533, 0.38431376, 0.30588236],\n",
       "         [0.38431376, 0.3803922 , 0.3019608 ],\n",
       "         [0.37647063, 0.37254903, 0.29411766]],\n",
       "\n",
       "        [[0.34509805, 0.34509805, 0.2509804 ],\n",
       "         [0.34509805, 0.34509805, 0.2509804 ],\n",
       "         [0.35686275, 0.35686275, 0.2627451 ],\n",
       "         ...,\n",
       "         [0.34509805, 0.34117648, 0.2627451 ],\n",
       "         [0.32941177, 0.3254902 , 0.24705884],\n",
       "         [0.31764707, 0.3137255 , 0.23529413]],\n",
       "\n",
       "        [[0.3921569 , 0.3921569 , 0.29803923],\n",
       "         [0.37647063, 0.37647063, 0.28235295],\n",
       "         [0.37254903, 0.37254903, 0.2784314 ],\n",
       "         ...,\n",
       "         [0.3254902 , 0.32156864, 0.24313727],\n",
       "         [0.32941177, 0.3254902 , 0.24705884],\n",
       "         [0.33333334, 0.32941177, 0.2509804 ]]]], dtype=float32)"
      ]
     },
     "execution_count": 72,
     "metadata": {},
     "output_type": "execute_result"
    }
   ],
   "source": [
    "x_train"
   ]
  },
  {
   "cell_type": "code",
   "execution_count": 120,
   "metadata": {},
   "outputs": [],
   "source": [
    "#Model architecture code borrowed from https://keras.io/examples/cifar10_cnn/\n",
    "epochs = 10\n",
    "\n",
    "model = Sequential()\n",
    "model.add(Conv2D(32, (3, 3), padding='same',\n",
    "                 input_shape=x_train.shape[1:]))\n",
    "model.add(Activation('relu'))\n",
    "model.add(Conv2D(32, (3, 3)))\n",
    "model.add(Activation('relu'))\n",
    "model.add(MaxPooling2D(pool_size=(2, 2)))\n",
    "model.add(Dropout(0.25))\n",
    "\n",
    "model.add(Conv2D(64, (3, 3), padding='same'))\n",
    "model.add(Activation('relu'))\n",
    "model.add(Conv2D(64, (3, 3)))\n",
    "model.add(Activation('relu'))\n",
    "model.add(MaxPooling2D(pool_size=(2, 2)))\n",
    "model.add(Dropout(0.25))\n",
    "\n",
    "model.add(Flatten())\n",
    "model.add(Dense(512))\n",
    "model.add(Activation('relu'))\n",
    "model.add(Dropout(0.5))\n",
    "model.add(Dense(2))\n",
    "model.add(Activation('softmax'))\n",
    "\n",
    "# initiate RMSprop optimizer\n",
    "#opt = tensorflow.keras.optimizers.RMSprop(learning_rate=0.0001, decay=1e-6)\n",
    "\n",
    "# Let's train the model using RMSprop\n",
    "model.compile(loss='categorical_crossentropy',\n",
    "              optimizer='adam',\n",
    "              metrics=['accuracy'])"
   ]
  },
  {
   "cell_type": "code",
   "execution_count": 121,
   "metadata": {},
   "outputs": [
    {
     "name": "stdout",
     "output_type": "stream",
     "text": [
      "WARNING:tensorflow:sample_weight modes were coerced from\n",
      "  ...\n",
      "    to  \n",
      "  ['...']\n",
      "WARNING:tensorflow:sample_weight modes were coerced from\n",
      "  ...\n",
      "    to  \n",
      "  ['...']\n",
      "Train for 313 steps, validate for 63 steps\n",
      "Epoch 1/10\n",
      "313/313 [==============================] - 610s 2s/step - loss: 0.5628 - accuracy: 0.7076 - val_loss: 0.3514 - val_accuracy: 0.8665\n",
      "Epoch 2/10\n",
      "313/313 [==============================] - 605s 2s/step - loss: 0.2682 - accuracy: 0.8938 - val_loss: 0.1983 - val_accuracy: 0.9215\n",
      "Epoch 3/10\n",
      "313/313 [==============================] - 491s 2s/step - loss: 0.2002 - accuracy: 0.9209 - val_loss: 0.2719 - val_accuracy: 0.9095\n",
      "Epoch 4/10\n",
      "313/313 [==============================] - 552s 2s/step - loss: 0.1932 - accuracy: 0.9237 - val_loss: 0.1720 - val_accuracy: 0.9325\n",
      "Epoch 5/10\n",
      "313/313 [==============================] - 507s 2s/step - loss: 0.1470 - accuracy: 0.9424 - val_loss: 0.1546 - val_accuracy: 0.9435\n",
      "Epoch 6/10\n",
      "313/313 [==============================] - 475s 2s/step - loss: 0.1537 - accuracy: 0.9425 - val_loss: 0.1444 - val_accuracy: 0.9480\n",
      "Epoch 7/10\n",
      "313/313 [==============================] - 478s 2s/step - loss: 0.1129 - accuracy: 0.9569 - val_loss: 0.1448 - val_accuracy: 0.9505\n",
      "Epoch 8/10\n",
      "313/313 [==============================] - 485s 2s/step - loss: 0.1107 - accuracy: 0.9590 - val_loss: 0.1552 - val_accuracy: 0.9505\n",
      "Epoch 9/10\n",
      "313/313 [==============================] - 482s 2s/step - loss: 0.0934 - accuracy: 0.9645 - val_loss: 0.1514 - val_accuracy: 0.9440\n",
      "Epoch 10/10\n",
      "313/313 [==============================] - 490s 2s/step - loss: 0.0700 - accuracy: 0.9753 - val_loss: 0.1615 - val_accuracy: 0.9570\n"
     ]
    },
    {
     "data": {
      "text/plain": [
       "<tensorflow.python.keras.callbacks.History at 0x13d671198>"
      ]
     },
     "execution_count": 121,
     "metadata": {},
     "output_type": "execute_result"
    }
   ],
   "source": [
    "# Fit the model using epochs=10\n",
    "model.fit(train_generator, validation_data=val_generator, epochs=epochs, shuffle=True)"
   ]
  },
  {
   "cell_type": "code",
   "execution_count": 124,
   "metadata": {},
   "outputs": [],
   "source": [
    "pred = model.predict(x_test)"
   ]
  },
  {
   "cell_type": "code",
   "execution_count": 123,
   "metadata": {},
   "outputs": [
    {
     "name": "stdout",
     "output_type": "stream",
     "text": [
      "WARNING:tensorflow:sample_weight modes were coerced from\n",
      "  ...\n",
      "    to  \n",
      "  ['...']\n",
      "63/63 [==============================] - 19s 306ms/step - loss: 0.1259 - accuracy: 0.9640\n"
     ]
    },
    {
     "data": {
      "text/plain": [
       "[0.12592908091813562, 0.964]"
      ]
     },
     "execution_count": 123,
     "metadata": {},
     "output_type": "execute_result"
    }
   ],
   "source": [
    "model.evaluate(test_generator)"
   ]
  },
  {
   "cell_type": "code",
   "execution_count": 186,
   "metadata": {},
   "outputs": [
    {
     "data": {
      "image/png": "[encoded data removed]",
      "text/plain": [
       "<PIL.Image.Image image mode=RGB size=128x128 at 0x13F38AF28>"
      ]
     },
     "execution_count": 186,
     "metadata": {},
     "output_type": "execute_result"
    }
   ],
   "source": [
    "tensorflow.keras.preprocessing.image.array_to_img(\n",
    "    x_test[287],\n",
    "    data_format=None,\n",
    "    scale=True,\n",
    "    dtype=None\n",
    ")"
   ]
  },
  {
   "cell_type": "code",
   "execution_count": 184,
   "metadata": {},
   "outputs": [
    {
     "data": {
      "image/png": "[encoded data removed]",
      "text/plain": [
       "<PIL.Image.Image image mode=RGB size=128x128 at 0x13E2901D0>"
      ]
     },
     "execution_count": 184,
     "metadata": {},
     "output_type": "execute_result"
    }
   ],
   "source": [
    "tensorflow.keras.preprocessing.image.array_to_img(\n",
    "    x_test[1792],\n",
    "    data_format=None,\n",
    "    scale=True,\n",
    "    dtype=None\n",
    ")"
   ]
  },
  {
   "cell_type": "code",
   "execution_count": 125,
   "metadata": {},
   "outputs": [],
   "source": [
    "# Match predictions with label names for test data, and store in a dataframe\n",
    "predicted_class_indices=np.argmax(pred,axis=1)\n",
    "\n",
    "labels = (train_generator.class_indices)\n",
    "labels = dict((v,k) for k,v in labels.items())\n",
    "predictions = [labels[k] for k in predicted_class_indices]\n",
    "\n",
    "filenames=test_generator.filenames\n",
    "results=pd.DataFrame({\"Filename\":filenames,\n",
    "                      \"Predictions\":predictions,\n",
    "                      \"Labels\":np.argmax(y_test, axis=1)})"
   ]
  },
  {
   "cell_type": "code",
   "execution_count": 180,
   "metadata": {},
   "outputs": [
    {
     "data": {
      "text/html": [
       "<div>\n",
       "<style scoped>\n",
       "    .dataframe tbody tr th:only-of-type {\n",
       "        vertical-align: middle;\n",
       "    }\n",
       "\n",
       "    .dataframe tbody tr th {\n",
       "        vertical-align: top;\n",
       "    }\n",
       "\n",
       "    .dataframe thead th {\n",
       "        text-align: right;\n",
       "    }\n",
       "</style>\n",
       "<table border=\"1\" class=\"dataframe\">\n",
       "  <thead>\n",
       "    <tr style=\"text-align: right;\">\n",
       "      <th></th>\n",
       "      <th>Filename</th>\n",
       "      <th>Labels</th>\n",
       "      <th>Predictions</th>\n",
       "    </tr>\n",
       "  </thead>\n",
       "  <tbody>\n",
       "    <tr>\n",
       "      <th>33</th>\n",
       "      <td>damage/-93.73303299999999_29.788544.jpeg</td>\n",
       "      <td>1</td>\n",
       "      <td>no_damage</td>\n",
       "    </tr>\n",
       "    <tr>\n",
       "      <th>1792</th>\n",
       "      <td>no_damage/-95.64350400000001_29.837891.jpeg</td>\n",
       "      <td>0</td>\n",
       "      <td>damage</td>\n",
       "    </tr>\n",
       "    <tr>\n",
       "      <th>1179</th>\n",
       "      <td>no_damage/-95.186091_29.527174.jpeg</td>\n",
       "      <td>1</td>\n",
       "      <td>no_damage</td>\n",
       "    </tr>\n",
       "    <tr>\n",
       "      <th>287</th>\n",
       "      <td>damage/-95.225819_30.018121.jpeg</td>\n",
       "      <td>0</td>\n",
       "      <td>damage</td>\n",
       "    </tr>\n",
       "    <tr>\n",
       "      <th>1981</th>\n",
       "      <td>no_damage/-96.991438_28.791965.jpeg</td>\n",
       "      <td>0</td>\n",
       "      <td>damage</td>\n",
       "    </tr>\n",
       "  </tbody>\n",
       "</table>\n",
       "</div>"
      ],
      "text/plain": [
       "                                         Filename  Labels Predictions\n",
       "33       damage/-93.73303299999999_29.788544.jpeg       1   no_damage\n",
       "1792  no_damage/-95.64350400000001_29.837891.jpeg       0      damage\n",
       "1179          no_damage/-95.186091_29.527174.jpeg       1   no_damage\n",
       "287              damage/-95.225819_30.018121.jpeg       0      damage\n",
       "1981          no_damage/-96.991438_28.791965.jpeg       0      damage"
      ]
     },
     "execution_count": 180,
     "metadata": {},
     "output_type": "execute_result"
    }
   ],
   "source": [
    "results.sample(5)"
   ]
  },
  {
   "cell_type": "code",
   "execution_count": 196,
   "metadata": {},
   "outputs": [
    {
     "data": {
      "text/plain": [
       "dict_keys(['loss', 'val_loss', 'val_accuracy', 'accuracy'])"
      ]
     },
     "execution_count": 196,
     "metadata": {},
     "output_type": "execute_result"
    }
   ],
   "source": [
    "# obtain model metrics for all the epochs\n",
    "model_history = model.history.history\n",
    "model_history.keys()"
   ]
  },
  {
   "cell_type": "code",
   "execution_count": 195,
   "metadata": {},
   "outputs": [
    {
     "data": {
      "image/png": "[encoded data removed]",
      "text/plain": [
       "<Figure size 504x360 with 1 Axes>"
      ]
     },
     "metadata": {
      "needs_background": "light"
     },
     "output_type": "display_data"
    }
   ],
   "source": [
    "# plot of loss over 10 epochs\n",
    "plt.figure(figsize = (7,5))\n",
    "plt.title('CNN Loss Results', size=20)\n",
    "\n",
    "plt.plot(model_history['val_loss'], label = 'Test')\n",
    "plt.plot(model_history['loss'], label = 'Train')\n",
    "plt.xlabel('Epoch (iteration)', size=14)\n",
    "plt.ylabel('Loss', size=14)\n",
    "plt.legend();"
   ]
  },
  {
   "cell_type": "code",
   "execution_count": 194,
   "metadata": {},
   "outputs": [
    {
     "data": {
      "image/png": "[encoded data removed]",
      "text/plain": [
       "<Figure size 504x360 with 1 Axes>"
      ]
     },
     "metadata": {
      "needs_background": "light"
     },
     "output_type": "display_data"
    }
   ],
   "source": [
    "# plot of accuracy over 10 epochs\n",
    "plt.figure(figsize = (7,5))\n",
    "plt.title('CNN Accuracy Results', size=20)\n",
    "\n",
    "plt.plot(model_history['val_accuracy'], label = 'Test')\n",
    "plt.plot(model_history['accuracy'], label = 'Train')\n",
    "plt.xlabel('Epoch (iteration)', size=14)\n",
    "plt.ylabel('Accuracy', size=14)\n",
    "plt.legend();"
   ]
  }
 ],
 "metadata": {
  "kernelspec": {
   "display_name": "Python 3",
   "language": "python",
   "name": "python3"
  },
  "language_info": {
   "codemirror_mode": {
    "name": "ipython",
    "version": 3
   },
   "file_extension": ".py",
   "mimetype": "text/x-python",
   "name": "python",
   "nbconvert_exporter": "python",
   "pygments_lexer": "ipython3",
   "version": "3.5.6"
  }
 },
 "nbformat": 4,
 "nbformat_minor": 4
}

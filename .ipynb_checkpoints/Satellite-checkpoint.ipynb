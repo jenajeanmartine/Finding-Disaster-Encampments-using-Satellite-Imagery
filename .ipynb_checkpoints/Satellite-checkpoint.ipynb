{
 "cells": [
  {
   "cell_type": "code",
   "execution_count": 14,
   "metadata": {},
   "outputs": [],
   "source": [
    "import numpy as np\n",
    "from sklearn.svm import SVC\n",
    "from PIL import Image\n",
    "import os\n",
    "import matplotlib.pyplot as plt\n",
    "from skimage import io\n",
    "\n",
    "import tensorflow.keras\n",
    "%matplotlib inline"
   ]
  },
  {
   "cell_type": "code",
   "execution_count": 3,
   "metadata": {},
   "outputs": [],
   "source": [
    "for file in os.listdir('./satellite-images-of-hurricane-damage/train_another/damage/'):\n",
    "    #img = Image.open(os.path.join('./satellite-images-of-hurricane-damage/train_another/damage/', file))\n",
    "    img = io.imread(os.path.join('./satellite-images-of-hurricane-damage/train_another/damage/', file))\n",
    "    data = np.array(img)\n",
    "    #your_model.train(data)"
   ]
  },
  {
   "cell_type": "code",
   "execution_count": 6,
   "metadata": {},
   "outputs": [
    {
     "data": {
      "text/plain": [
       "numpy.ndarray"
      ]
     },
     "execution_count": 6,
     "metadata": {},
     "output_type": "execute_result"
    }
   ],
   "source": [
    "type(data)"
   ]
  },
  {
   "cell_type": "code",
   "execution_count": 2,
   "metadata": {},
   "outputs": [],
   "source": []
  },
  {
   "cell_type": "code",
   "execution_count": 17,
   "metadata": {},
   "outputs": [
    {
     "data": {
      "text/plain": [
       "Array([[[53, 72, 52],\n",
       "        [55, 74, 54],\n",
       "        [55, 74, 54],\n",
       "        ...,\n",
       "        [71, 84, 58],\n",
       "        [71, 84, 56],\n",
       "        [70, 83, 55]],\n",
       "\n",
       "       [[60, 77, 58],\n",
       "        [59, 76, 57],\n",
       "        [56, 73, 54],\n",
       "        ...,\n",
       "        [75, 85, 60],\n",
       "        [70, 83, 55],\n",
       "        [69, 82, 54]],\n",
       "\n",
       "       [[63, 80, 61],\n",
       "        [59, 76, 57],\n",
       "        [54, 71, 52],\n",
       "        ...,\n",
       "        [73, 83, 58],\n",
       "        [70, 80, 55],\n",
       "        [68, 78, 53]],\n",
       "\n",
       "       ...,\n",
       "\n",
       "       [[65, 70, 50],\n",
       "        [67, 72, 52],\n",
       "        [71, 76, 54],\n",
       "        ...,\n",
       "        [59, 77, 55],\n",
       "        [57, 76, 54],\n",
       "        [53, 72, 50]],\n",
       "\n",
       "       [[77, 80, 61],\n",
       "        [78, 81, 62],\n",
       "        [81, 84, 63],\n",
       "        ...,\n",
       "        [57, 76, 54],\n",
       "        [57, 76, 54],\n",
       "        [54, 73, 51]],\n",
       "\n",
       "       [[86, 89, 70],\n",
       "        [88, 91, 70],\n",
       "        [90, 93, 72],\n",
       "        ...,\n",
       "        [55, 74, 52],\n",
       "        [55, 74, 52],\n",
       "        [55, 74, 52]]], dtype=uint8)"
      ]
     },
     "execution_count": 17,
     "metadata": {},
     "output_type": "execute_result"
    }
   ],
   "source": [
    "img"
   ]
  },
  {
   "cell_type": "code",
   "execution_count": 19,
   "metadata": {},
   "outputs": [
    {
     "data": {
      "text/plain": [
       "Array([[[53, 72, 52],\n",
       "        [55, 74, 54],\n",
       "        [55, 74, 54],\n",
       "        ...,\n",
       "        [71, 84, 58],\n",
       "        [71, 84, 56],\n",
       "        [70, 83, 55]],\n",
       "\n",
       "       [[60, 77, 58],\n",
       "        [59, 76, 57],\n",
       "        [56, 73, 54],\n",
       "        ...,\n",
       "        [75, 85, 60],\n",
       "        [70, 83, 55],\n",
       "        [69, 82, 54]],\n",
       "\n",
       "       [[63, 80, 61],\n",
       "        [59, 76, 57],\n",
       "        [54, 71, 52],\n",
       "        ...,\n",
       "        [73, 83, 58],\n",
       "        [70, 80, 55],\n",
       "        [68, 78, 53]],\n",
       "\n",
       "       ...,\n",
       "\n",
       "       [[65, 70, 50],\n",
       "        [67, 72, 52],\n",
       "        [71, 76, 54],\n",
       "        ...,\n",
       "        [59, 77, 55],\n",
       "        [57, 76, 54],\n",
       "        [53, 72, 50]],\n",
       "\n",
       "       [[77, 80, 61],\n",
       "        [78, 81, 62],\n",
       "        [81, 84, 63],\n",
       "        ...,\n",
       "        [57, 76, 54],\n",
       "        [57, 76, 54],\n",
       "        [54, 73, 51]],\n",
       "\n",
       "       [[86, 89, 70],\n",
       "        [88, 91, 70],\n",
       "        [90, 93, 72],\n",
       "        ...,\n",
       "        [55, 74, 52],\n",
       "        [55, 74, 52],\n",
       "        [55, 74, 52]]], dtype=uint8)"
      ]
     },
     "execution_count": 19,
     "metadata": {},
     "output_type": "execute_result"
    }
   ],
   "source": [
    "img."
   ]
  },
  {
   "cell_type": "code",
   "execution_count": null,
   "metadata": {},
   "outputs": [],
   "source": []
  }
 ],
 "metadata": {
  "kernelspec": {
   "display_name": "Python 3",
   "language": "python",
   "name": "python3"
  },
  "language_info": {
   "codemirror_mode": {
    "name": "ipython",
    "version": 3
   },
   "file_extension": ".py",
   "mimetype": "text/x-python",
   "name": "python",
   "nbconvert_exporter": "python",
   "pygments_lexer": "ipython3",
   "version": "3.5.6"
  }
 },
 "nbformat": 4,
 "nbformat_minor": 2
}
